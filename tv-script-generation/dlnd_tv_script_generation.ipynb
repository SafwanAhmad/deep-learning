{
 "cells": [
  {
   "cell_type": "markdown",
   "metadata": {},
   "source": [
    "# TV Script Generation\n",
    "In this project, you'll generate your own [Simpsons](https://en.wikipedia.org/wiki/The_Simpsons) TV scripts using RNNs.  You'll be using part of the [Simpsons dataset](https://www.kaggle.com/wcukierski/the-simpsons-by-the-data) of scripts from 27 seasons.  The Neural Network you'll build will generate a new TV script for a scene at [Moe's Tavern](https://simpsonswiki.com/wiki/Moe's_Tavern).\n",
    "## Get the Data\n",
    "The data is already provided for you.  You'll be using a subset of the original dataset.  It consists of only the scenes in Moe's Tavern.  This doesn't include other versions of the tavern, like \"Moe's Cavern\", \"Flaming Moe's\", \"Uncle Moe's Family Feed-Bag\", etc.."
   ]
  },
  {
   "cell_type": "code",
   "execution_count": 151,
   "metadata": {
    "collapsed": true
   },
   "outputs": [],
   "source": [
    "\"\"\"\n",
    "DON'T MODIFY ANYTHING IN THIS CELL\n",
    "\"\"\"\n",
    "import helper\n",
    "\n",
    "data_dir = './data/simpsons/moes_tavern_lines.txt'\n",
    "text = helper.load_data(data_dir)\n",
    "# Ignore notice, since we don't use it for analysing the data\n",
    "text = text[81:]"
   ]
  },
  {
   "cell_type": "markdown",
   "metadata": {},
   "source": [
    "## Explore the Data\n",
    "Play around with `view_sentence_range` to view different parts of the data."
   ]
  },
  {
   "cell_type": "code",
   "execution_count": 152,
   "metadata": {
    "collapsed": false
   },
   "outputs": [
    {
     "name": "stdout",
     "output_type": "stream",
     "text": [
      "Dataset Stats\n",
      "Roughly the number of unique words: 11492\n",
      "Number of scenes: 262\n",
      "Average number of sentences in each scene: 15.248091603053435\n",
      "Number of lines: 4257\n",
      "Average number of words in each line: 11.50434578341555\n",
      "\n",
      "The sentences 0 to 10:\n",
      "Moe_Szyslak: (INTO PHONE) Moe's Tavern. Where the elite meet to drink.\n",
      "Bart_Simpson: Eh, yeah, hello, is Mike there? Last name, Rotch.\n",
      "Moe_Szyslak: (INTO PHONE) Hold on, I'll check. (TO BARFLIES) Mike Rotch. Mike Rotch. Hey, has anybody seen Mike Rotch, lately?\n",
      "Moe_Szyslak: (INTO PHONE) Listen you little puke. One of these days I'm gonna catch you, and I'm gonna carve my name on your back with an ice pick.\n",
      "Moe_Szyslak: What's the matter Homer? You're not your normal effervescent self.\n",
      "Homer_Simpson: I got my problems, Moe. Give me another one.\n",
      "Moe_Szyslak: Homer, hey, you should not drink to forget your problems.\n",
      "Barney_Gumble: Yeah, you should only drink to enhance your social skills.\n",
      "\n",
      "\n"
     ]
    }
   ],
   "source": [
    "view_sentence_range = (0, 10)\n",
    "\n",
    "\"\"\"\n",
    "DON'T MODIFY ANYTHING IN THIS CELL\n",
    "\"\"\"\n",
    "import numpy as np\n",
    "\n",
    "print('Dataset Stats')\n",
    "print('Roughly the number of unique words: {}'.format(len({word: None for word in text.split()})))\n",
    "scenes = text.split('\\n\\n')\n",
    "print('Number of scenes: {}'.format(len(scenes)))\n",
    "sentence_count_scene = [scene.count('\\n') for scene in scenes]\n",
    "print('Average number of sentences in each scene: {}'.format(np.average(sentence_count_scene)))\n",
    "\n",
    "sentences = [sentence for scene in scenes for sentence in scene.split('\\n')]\n",
    "print('Number of lines: {}'.format(len(sentences)))\n",
    "word_count_sentence = [len(sentence.split()) for sentence in sentences]\n",
    "print('Average number of words in each line: {}'.format(np.average(word_count_sentence)))\n",
    "\n",
    "print()\n",
    "print('The sentences {} to {}:'.format(*view_sentence_range))\n",
    "print('\\n'.join(text.split('\\n')[view_sentence_range[0]:view_sentence_range[1]]))"
   ]
  },
  {
   "cell_type": "markdown",
   "metadata": {},
   "source": [
    "## Implement Preprocessing Functions\n",
    "The first thing to do to any dataset is preprocessing.  Implement the following preprocessing functions below:\n",
    "- Lookup Table\n",
    "- Tokenize Punctuation\n",
    "\n",
    "### Lookup Table\n",
    "To create a word embedding, you first need to transform the words to ids.  In this function, create two dictionaries:\n",
    "- Dictionary to go from the words to an id, we'll call `vocab_to_int`\n",
    "- Dictionary to go from the id to word, we'll call `int_to_vocab`\n",
    "\n",
    "Return these dictionaries in the following tuple `(vocab_to_int, int_to_vocab)`"
   ]
  },
  {
   "cell_type": "code",
   "execution_count": 153,
   "metadata": {
    "collapsed": false
   },
   "outputs": [
    {
     "name": "stdout",
     "output_type": "stream",
     "text": [
      "Tests Passed\n"
     ]
    }
   ],
   "source": [
    "import numpy as np\n",
    "import problem_unittests as tests\n",
    "from collections import Counter\n",
    "\n",
    "def create_lookup_tables(text):\n",
    "    \"\"\"\n",
    "    Create lookup tables for vocabulary\n",
    "    :param text: The text of tv scripts split into words\n",
    "    :return: A tuple of dicts (vocab_to_int, int_to_vocab)\n",
    "    \"\"\"\n",
    "    # TODO: Implement Function\n",
    "    \n",
    "    # Create a counter to find unique words\n",
    "    words_count = Counter(text)\n",
    "    \n",
    "    # Sort the words\n",
    "    sorted_words = sorted(words_count, key=words_count.get)\n",
    "    \n",
    "    # Create vocab to int dictionary\n",
    "    vocab_to_int = { word: index for index, word in enumerate(sorted_words)}\n",
    "    \n",
    "    # Create int to vocab dictionary\n",
    "    int_to_vocab = {index: word for word, index in vocab_to_int.items()}\n",
    "    \n",
    "    return vocab_to_int, int_to_vocab\n",
    "\n",
    "\n",
    "\"\"\"\n",
    "DON'T MODIFY ANYTHING IN THIS CELL THAT IS BELOW THIS LINE\n",
    "\"\"\"\n",
    "tests.test_create_lookup_tables(create_lookup_tables)"
   ]
  },
  {
   "cell_type": "markdown",
   "metadata": {},
   "source": [
    "### Tokenize Punctuation\n",
    "We'll be splitting the script into a word array using spaces as delimiters.  However, punctuations like periods and exclamation marks make it hard for the neural network to distinguish between the word \"bye\" and \"bye!\".\n",
    "\n",
    "Implement the function `token_lookup` to return a dict that will be used to tokenize symbols like \"!\" into \"||Exclamation_Mark||\".  Create a dictionary for the following symbols where the symbol is the key and value is the token:\n",
    "- Period ( . )\n",
    "- Comma ( , )\n",
    "- Quotation Mark ( \" )\n",
    "- Semicolon ( ; )\n",
    "- Exclamation mark ( ! )\n",
    "- Question mark ( ? )\n",
    "- Left Parentheses ( ( )\n",
    "- Right Parentheses ( ) )\n",
    "- Dash ( -- )\n",
    "- Return ( \\n )\n",
    "\n",
    "This dictionary will be used to token the symbols and add the delimiter (space) around it.  This separates the symbols as it's own word, making it easier for the neural network to predict on the next word. Make sure you don't use a token that could be confused as a word. Instead of using the token \"dash\", try using something like \"||dash||\"."
   ]
  },
  {
   "cell_type": "code",
   "execution_count": 154,
   "metadata": {
    "collapsed": false
   },
   "outputs": [
    {
     "name": "stdout",
     "output_type": "stream",
     "text": [
      "Tests Passed\n"
     ]
    }
   ],
   "source": [
    "def token_lookup():\n",
    "    \"\"\"\n",
    "    Generate a dict to turn punctuation into a token.\n",
    "    :return: Tokenize dictionary where the key is the punctuation and the value is the token\n",
    "    \"\"\"\n",
    "    # TODO: Implement Function\n",
    "    token_dict = {'.': '||Period||',\n",
    "                 ',': '||Comma||',\n",
    "                 '\"': '||Quotation_Mark||',\n",
    "                 ';': '||Semicolon||',\n",
    "                 '!': '||Exclamation_Mark||',\n",
    "                 '?': '||Question_Mark||',\n",
    "                 '(': '||Left_Parentheses||',\n",
    "                 ')': '||Right_Parentheses||',\n",
    "                 '--': '||Dash||',\n",
    "                 '\\n': '||Return||'}\n",
    "    return token_dict\n",
    "\n",
    "\"\"\"\n",
    "DON'T MODIFY ANYTHING IN THIS CELL THAT IS BELOW THIS LINE\n",
    "\"\"\"\n",
    "tests.test_tokenize(token_lookup)"
   ]
  },
  {
   "cell_type": "markdown",
   "metadata": {},
   "source": [
    "## Preprocess all the data and save it\n",
    "Running the code cell below will preprocess all the data and save it to file."
   ]
  },
  {
   "cell_type": "code",
   "execution_count": 155,
   "metadata": {
    "collapsed": true
   },
   "outputs": [],
   "source": [
    "\"\"\"\n",
    "DON'T MODIFY ANYTHING IN THIS CELL\n",
    "\"\"\"\n",
    "# Preprocess Training, Validation, and Testing Data\n",
    "helper.preprocess_and_save_data(data_dir, token_lookup, create_lookup_tables)"
   ]
  },
  {
   "cell_type": "markdown",
   "metadata": {},
   "source": [
    "# Check Point\n",
    "This is your first checkpoint. If you ever decide to come back to this notebook or have to restart the notebook, you can start from here. The preprocessed data has been saved to disk."
   ]
  },
  {
   "cell_type": "code",
   "execution_count": 156,
   "metadata": {
    "collapsed": true
   },
   "outputs": [],
   "source": [
    "\"\"\"\n",
    "DON'T MODIFY ANYTHING IN THIS CELL\n",
    "\"\"\"\n",
    "import helper\n",
    "import numpy as np\n",
    "import problem_unittests as tests\n",
    "\n",
    "int_text, vocab_to_int, int_to_vocab, token_dict = helper.load_preprocess()"
   ]
  },
  {
   "cell_type": "markdown",
   "metadata": {},
   "source": [
    "## Build the Neural Network\n",
    "You'll build the components necessary to build a RNN by implementing the following functions below:\n",
    "- get_inputs\n",
    "- get_init_cell\n",
    "- get_embed\n",
    "- build_rnn\n",
    "- build_nn\n",
    "- get_batches\n",
    "\n",
    "### Check the Version of TensorFlow and Access to GPU"
   ]
  },
  {
   "cell_type": "code",
   "execution_count": 157,
   "metadata": {
    "collapsed": false
   },
   "outputs": [
    {
     "name": "stdout",
     "output_type": "stream",
     "text": [
      "TensorFlow Version: 1.2.1\n"
     ]
    },
    {
     "name": "stderr",
     "output_type": "stream",
     "text": [
      "/home/safwanx/.conda/envs/dlnd-rnn-lab/lib/python3.5/site-packages/ipykernel/__main__.py:14: UserWarning: No GPU found. Please use a GPU to train your neural network.\n"
     ]
    }
   ],
   "source": [
    "\"\"\"\n",
    "DON'T MODIFY ANYTHING IN THIS CELL\n",
    "\"\"\"\n",
    "from distutils.version import LooseVersion\n",
    "import warnings\n",
    "import tensorflow as tf\n",
    "\n",
    "# Check TensorFlow Version\n",
    "assert LooseVersion(tf.__version__) >= LooseVersion('1.0'), 'Please use TensorFlow version 1.0 or newer'\n",
    "print('TensorFlow Version: {}'.format(tf.__version__))\n",
    "\n",
    "# Check for a GPU\n",
    "if not tf.test.gpu_device_name():\n",
    "    warnings.warn('No GPU found. Please use a GPU to train your neural network.')\n",
    "else:\n",
    "    print('Default GPU Device: {}'.format(tf.test.gpu_device_name()))"
   ]
  },
  {
   "cell_type": "markdown",
   "metadata": {},
   "source": [
    "### Input\n",
    "Implement the `get_inputs()` function to create TF Placeholders for the Neural Network.  It should create the following placeholders:\n",
    "- Input text placeholder named \"input\" using the [TF Placeholder](https://www.tensorflow.org/api_docs/python/tf/placeholder) `name` parameter.\n",
    "- Targets placeholder\n",
    "- Learning Rate placeholder\n",
    "\n",
    "Return the placeholders in the following tuple `(Input, Targets, LearningRate)`"
   ]
  },
  {
   "cell_type": "code",
   "execution_count": 158,
   "metadata": {
    "collapsed": false
   },
   "outputs": [
    {
     "name": "stdout",
     "output_type": "stream",
     "text": [
      "Tests Passed\n"
     ]
    }
   ],
   "source": [
    "def get_inputs():\n",
    "    \"\"\"\n",
    "    Create TF Placeholders for input, targets, and learning rate.\n",
    "    :return: Tuple (input, targets, learning rate)\n",
    "    \"\"\"\n",
    "    # TODO: Implement Function\n",
    "    \n",
    "    # Input placeholder\n",
    "    input = tf.placeholder(dtype=tf.int32, shape=[None, None], name='input')\n",
    "    # Targets placeholder\n",
    "    targets = tf.placeholder(dtype=tf.int32, shape=[None, None], name='targets')\n",
    "    # Learning rate placeholder\n",
    "    learning_rate = tf.placeholder(dtype=tf.float32, name='learning_rate')\n",
    "    \n",
    "    return input, targets, learning_rate\n",
    "\n",
    "\n",
    "\"\"\"\n",
    "DON'T MODIFY ANYTHING IN THIS CELL THAT IS BELOW THIS LINE\n",
    "\"\"\"\n",
    "tests.test_get_inputs(get_inputs)"
   ]
  },
  {
   "cell_type": "markdown",
   "metadata": {},
   "source": [
    "### Build RNN Cell and Initialize\n",
    "Stack one or more [`BasicLSTMCells`](https://www.tensorflow.org/api_docs/python/tf/contrib/rnn/BasicLSTMCell) in a [`MultiRNNCell`](https://www.tensorflow.org/api_docs/python/tf/contrib/rnn/MultiRNNCell).\n",
    "- The Rnn size should be set using `rnn_size`\n",
    "- Initalize Cell State using the MultiRNNCell's [`zero_state()`](https://www.tensorflow.org/api_docs/python/tf/contrib/rnn/MultiRNNCell#zero_state) function\n",
    "    - Apply the name \"initial_state\" to the initial state using [`tf.identity()`](https://www.tensorflow.org/api_docs/python/tf/identity)\n",
    "\n",
    "Return the cell and initial state in the following tuple `(Cell, InitialState)`"
   ]
  },
  {
   "cell_type": "code",
   "execution_count": 159,
   "metadata": {
    "collapsed": false
   },
   "outputs": [
    {
     "name": "stdout",
     "output_type": "stream",
     "text": [
      "Tests Passed\n"
     ]
    }
   ],
   "source": [
    "def get_init_cell(batch_size, rnn_size):\n",
    "    \"\"\"\n",
    "    Create an RNN Cell and initialize it.\n",
    "    :param batch_size: Size of batches\n",
    "    :param rnn_size: Size of RNNs\n",
    "    :return: Tuple (cell, initialize state)\n",
    "    \"\"\"\n",
    "    # TODO: Implement Function\n",
    "    \n",
    "    # Crete a basic LSTM cell (reason to use reuse param: https://github.com/tensorflow/tensorflow/issues/8191)\n",
    "    # Create a single MultiRNNCell\n",
    "    multi_cell = tf.contrib.rnn.MultiRNNCell([get_lstm_cell(rnn_size) for _ in range(2)])\n",
    "    \n",
    "    #print((batch_size.shape))\n",
    "    \n",
    "    # Initialize multicell state\n",
    "    initial_state = multi_cell.zero_state(batch_size, dtype=tf.float32)\n",
    "    # Provide a name for initial state\n",
    "    initial_state = tf.identity(initial_state, name='initial_state')\n",
    "    \n",
    "    return multi_cell, initial_state\n",
    "\n",
    "def get_lstm_cell(lstm_size):\n",
    "    return tf.contrib.rnn.BasicLSTMCell(num_units=lstm_size)\n",
    "\n",
    "\n",
    "\"\"\"\n",
    "DON'T MODIFY ANYTHING IN THIS CELL THAT IS BELOW THIS LINE\n",
    "\"\"\"\n",
    "tests.test_get_init_cell(get_init_cell)"
   ]
  },
  {
   "cell_type": "markdown",
   "metadata": {},
   "source": [
    "### Word Embedding\n",
    "Apply embedding to `input_data` using TensorFlow.  Return the embedded sequence."
   ]
  },
  {
   "cell_type": "code",
   "execution_count": 160,
   "metadata": {
    "collapsed": false
   },
   "outputs": [
    {
     "name": "stdout",
     "output_type": "stream",
     "text": [
      "Tests Passed\n"
     ]
    }
   ],
   "source": [
    "def get_embed(input_data, vocab_size, embed_dim):\n",
    "    \"\"\"\n",
    "    Create embedding for <input_data>.\n",
    "    :param input_data: TF placeholder for text input.\n",
    "    :param vocab_size: Number of words in vocabulary.\n",
    "    :param embed_dim: Number of embedding dimensions\n",
    "    :return: Embedded input.\n",
    "    \"\"\"\n",
    "    # TODO: Implement Function\n",
    "    # Create embedding matrix(weight matrix) for the embedding layer\n",
    "    embeddings = tf.Variable(tf.random_uniform(shape=(vocab_size, embed_dim), minval= -0.1, maxval=0.1, dtype=tf.float32, \n",
    "                                              name='embeddings'))\n",
    "    # Create the lookup table using tf.nn.embedding_lookup method\n",
    "    embed = tf.nn.embedding_lookup(embeddings, input_data)\n",
    "    \n",
    "    return embed\n",
    "\n",
    "\n",
    "\"\"\"\n",
    "DON'T MODIFY ANYTHING IN THIS CELL THAT IS BELOW THIS LINE\n",
    "\"\"\"\n",
    "tests.test_get_embed(get_embed)"
   ]
  },
  {
   "cell_type": "markdown",
   "metadata": {},
   "source": [
    "### Build RNN\n",
    "You created a RNN Cell in the `get_init_cell()` function.  Time to use the cell to create a RNN.\n",
    "- Build the RNN using the [`tf.nn.dynamic_rnn()`](https://www.tensorflow.org/api_docs/python/tf/nn/dynamic_rnn)\n",
    " - Apply the name \"final_state\" to the final state using [`tf.identity()`](https://www.tensorflow.org/api_docs/python/tf/identity)\n",
    "\n",
    "Return the outputs and final_state state in the following tuple `(Outputs, FinalState)` "
   ]
  },
  {
   "cell_type": "code",
   "execution_count": 161,
   "metadata": {
    "collapsed": false
   },
   "outputs": [
    {
     "name": "stdout",
     "output_type": "stream",
     "text": [
      "Tests Passed\n"
     ]
    }
   ],
   "source": [
    "def build_rnn(cell, inputs):\n",
    "    \"\"\"\n",
    "    Create a RNN using a RNN Cell\n",
    "    :param cell: RNN Cell\n",
    "    :param inputs: Input text data\n",
    "    :return: Tuple (Outputs, Final State)\n",
    "    \"\"\"\n",
    "    # TODO: Implement Function\n",
    "    \n",
    "    # Build the RNN using method tf.nn.dynamic_rnn()\n",
    "    outputs, final_state = tf.nn.dynamic_rnn(cell, inputs, dtype=tf.float32)\n",
    "    \n",
    "    # Provide a name for the state\n",
    "    final_state = tf.identity(final_state, name='final_state')\n",
    "    \n",
    "    return outputs, final_state\n",
    "\n",
    "\n",
    "\"\"\"\n",
    "DON'T MODIFY ANYTHING IN THIS CELL THAT IS BELOW THIS LINE\n",
    "\"\"\"\n",
    "tests.test_build_rnn(build_rnn)"
   ]
  },
  {
   "cell_type": "markdown",
   "metadata": {},
   "source": [
    "### Build the Neural Network\n",
    "Apply the functions you implemented above to:\n",
    "- Apply embedding to `input_data` using your `get_embed(input_data, vocab_size, embed_dim)` function.\n",
    "- Build RNN using `cell` and your `build_rnn(cell, inputs)` function.\n",
    "- Apply a fully connected layer with a linear activation and `vocab_size` as the number of outputs.\n",
    "\n",
    "Return the logits and final state in the following tuple (Logits, FinalState) "
   ]
  },
  {
   "cell_type": "code",
   "execution_count": 163,
   "metadata": {
    "collapsed": false
   },
   "outputs": [
    {
     "name": "stdout",
     "output_type": "stream",
     "text": [
      "Tests Passed\n"
     ]
    }
   ],
   "source": [
    "def build_nn(cell, rnn_size, input_data, vocab_size, embed_dim):\n",
    "    \"\"\"\n",
    "    Build part of the neural network\n",
    "    :param cell: RNN cell\n",
    "    :param rnn_size: Size of rnns\n",
    "    :param input_data: Input data\n",
    "    :param vocab_size: Vocabulary size\n",
    "    :param embed_dim: Number of embedding dimensions\n",
    "    :return: Tuple (Logits, FinalState)\n",
    "    \"\"\"\n",
    "    # TODO: Implement Function\n",
    "    \n",
    "    # Get the embed look up table\n",
    "    embed_look_up = get_embed(input_data=input_data, vocab_size=vocab_size, embed_dim=embed_dim)\n",
    "    \n",
    "    # Build the RNN\n",
    "    outputs, final_state = build_rnn(cell, embed_look_up)\n",
    "    \n",
    "    # Apply a fully connected layer with linear activation and vocab_size as the number of output\n",
    "    logits = tf.contrib.layers.fully_connected(outputs, vocab_size,\n",
    "                                        weights_initializer=tf.truncated_normal_initializer(stddev=0.1)\n",
    "                                              ,activation_fn=None)\n",
    "    \n",
    "    #print(logits.shape)\n",
    "    \n",
    "    return logits, final_state\n",
    "\n",
    "\n",
    "\"\"\"\n",
    "DON'T MODIFY ANYTHING IN THIS CELL THAT IS BELOW THIS LINE\n",
    "\"\"\"\n",
    "tests.test_build_nn(build_nn)"
   ]
  },
  {
   "cell_type": "markdown",
   "metadata": {},
   "source": [
    "### Batches\n",
    "Implement `get_batches` to create batches of input and targets using `int_text`.  The batches should be a Numpy array with the shape `(number of batches, 2, batch size, sequence length)`. Each batch contains two elements:\n",
    "- The first element is a single batch of **input** with the shape `[batch size, sequence length]`\n",
    "- The second element is a single batch of **targets** with the shape `[batch size, sequence length]`\n",
    "\n",
    "If you can't fill the last batch with enough data, drop the last batch.\n",
    "\n",
    "For exmple, `get_batches([1, 2, 3, 4, 5, 6, 7, 8, 9, 10, 11, 12, 13, 14, 15, 16, 17, 18, 19, 20], 3, 2)` would return a Numpy array of the following:\n",
    "```\n",
    "[\n",
    "  # First Batch\n",
    "  [\n",
    "    # Batch of Input\n",
    "    [[ 1  2], [ 7  8], [13 14]]\n",
    "    # Batch of targets\n",
    "    [[ 2  3], [ 8  9], [14 15]]\n",
    "  ]\n",
    "\n",
    "  # Second Batch\n",
    "  [\n",
    "    # Batch of Input\n",
    "    [[ 3  4], [ 9 10], [15 16]]\n",
    "    # Batch of targets\n",
    "    [[ 4  5], [10 11], [16 17]]\n",
    "  ]\n",
    "\n",
    "  # Third Batch\n",
    "  [\n",
    "    # Batch of Input\n",
    "    [[ 5  6], [11 12], [17 18]]\n",
    "    # Batch of targets\n",
    "    [[ 6  7], [12 13], [18  1]]\n",
    "  ]\n",
    "]\n",
    "```\n",
    "\n",
    "Notice that the last target value in the last batch is the first input value of the first batch. In this case, `1`. This is a common technique used when creating sequence batches, although it is rather unintuitive."
   ]
  },
  {
   "cell_type": "code",
   "execution_count": 164,
   "metadata": {
    "collapsed": false
   },
   "outputs": [
    {
     "name": "stdout",
     "output_type": "stream",
     "text": [
      "Tests Passed\n"
     ]
    }
   ],
   "source": [
    "def get_batches(int_text, batch_size, seq_length):\n",
    "    \"\"\"\n",
    "    Return batches of input and target\n",
    "    :param int_text: Text with the words replaced by their ids\n",
    "    :param batch_size: The size of batch\n",
    "    :param seq_length: The length of sequence\n",
    "    :return: Batches as a Numpy array\n",
    "    \"\"\"\n",
    "    # TODO: Implement Function\n",
    "    n_batches = int(len(int_text) / (batch_size * seq_length))\n",
    "\n",
    "    # Drop the last few characters to make only full batches\n",
    "    xdata = np.array(int_text[: n_batches * batch_size * seq_length])\n",
    "    ydata = np.array(int_text[1: n_batches * batch_size * seq_length + 1])\n",
    "    ydata[-1] = xdata[0]\n",
    "\n",
    "    x_batches = np.split(xdata.reshape(batch_size, -1), n_batches, 1)\n",
    "    y_batches = np.split(ydata.reshape(batch_size, -1), n_batches, 1)\n",
    "\n",
    "    return np.array(list(zip(x_batches, y_batches)))\n",
    "\n",
    "\n",
    "\"\"\"\n",
    "DON'T MODIFY ANYTHING IN THIS CELL THAT IS BELOW THIS LINE\n",
    "\"\"\"\n",
    "tests.test_get_batches(get_batches)"
   ]
  },
  {
   "cell_type": "markdown",
   "metadata": {},
   "source": [
    "## Neural Network Training\n",
    "### Hyperparameters\n",
    "Tune the following parameters:\n",
    "\n",
    "- Set `num_epochs` to the number of epochs.\n",
    "- Set `batch_size` to the batch size.\n",
    "- Set `rnn_size` to the size of the RNNs.\n",
    "- Set `embed_dim` to the size of the embedding.\n",
    "- Set `seq_length` to the length of sequence.\n",
    "- Set `learning_rate` to the learning rate.\n",
    "- Set `show_every_n_batches` to the number of batches the neural network should print progress."
   ]
  },
  {
   "cell_type": "code",
   "execution_count": 165,
   "metadata": {
    "collapsed": true
   },
   "outputs": [],
   "source": [
    "# Number of Epochs\n",
    "num_epochs = 50\n",
    "# Batch Size\n",
    "batch_size = 256\n",
    "# RNN Size\n",
    "rnn_size = 256\n",
    "# Embedding Dimension Size\n",
    "embed_dim = 300\n",
    "# Sequence Length\n",
    "seq_length = 15\n",
    "# Learning Rate\n",
    "learning_rate = 0.01\n",
    "# Show stats for every n number of batches\n",
    "show_every_n_batches = 5\n",
    "\n",
    "\"\"\"\n",
    "DON'T MODIFY ANYTHING IN THIS CELL THAT IS BELOW THIS LINE\n",
    "\"\"\"\n",
    "save_dir = './save'"
   ]
  },
  {
   "cell_type": "markdown",
   "metadata": {},
   "source": [
    "### Build the Graph\n",
    "Build the graph using the neural network you implemented."
   ]
  },
  {
   "cell_type": "code",
   "execution_count": 166,
   "metadata": {
    "collapsed": false
   },
   "outputs": [
    {
     "name": "stdout",
     "output_type": "stream",
     "text": [
      "(?, ?, 6779)\n",
      "(?, ?, 6779)\n"
     ]
    }
   ],
   "source": [
    "\"\"\"\n",
    "DON'T MODIFY ANYTHING IN THIS CELL\n",
    "\"\"\"\n",
    "from tensorflow.contrib import seq2seq\n",
    "\n",
    "train_graph = tf.Graph()\n",
    "with train_graph.as_default():\n",
    "    vocab_size = len(int_to_vocab)\n",
    "    input_text, targets, lr = get_inputs()\n",
    "    input_data_shape = tf.shape(input_text)\n",
    "    cell, initial_state = get_init_cell(input_data_shape[0], rnn_size)\n",
    "    logits, final_state = build_nn(cell, rnn_size, input_text, vocab_size, embed_dim)\n",
    "\n",
    "    # Probabilities for generating words\n",
    "    probs = tf.nn.softmax(logits, name='probs')\n",
    "    print(probs.shape)\n",
    "    print(logits.shape)\n",
    "\n",
    "    # Loss function\n",
    "    cost = seq2seq.sequence_loss(\n",
    "        logits,\n",
    "        targets,\n",
    "        tf.ones([input_data_shape[0], input_data_shape[1]]))\n",
    "\n",
    "    # Optimizer\n",
    "    optimizer = tf.train.AdamOptimizer(lr)\n",
    "\n",
    "    # Gradient Clipping\n",
    "    gradients = optimizer.compute_gradients(cost)\n",
    "    capped_gradients = [(tf.clip_by_value(grad, -1., 1.), var) for grad, var in gradients if grad is not None]\n",
    "    train_op = optimizer.apply_gradients(capped_gradients)"
   ]
  },
  {
   "cell_type": "markdown",
   "metadata": {},
   "source": [
    "## Train\n",
    "Train the neural network on the preprocessed data.  If you have a hard time getting a good loss, check the [forms](https://discussions.udacity.com/) to see if anyone is having the same problem."
   ]
  },
  {
   "cell_type": "code",
   "execution_count": 167,
   "metadata": {
    "collapsed": false
   },
   "outputs": [
    {
     "name": "stdout",
     "output_type": "stream",
     "text": [
      "Epoch   0 Batch    0/17   train_loss = 8.821\n",
      "Epoch   0 Batch    5/17   train_loss = 6.577\n",
      "Epoch   0 Batch   10/17   train_loss = 6.325\n",
      "Epoch   0 Batch   15/17   train_loss = 6.187\n",
      "Epoch   1 Batch    3/17   train_loss = 6.022\n",
      "Epoch   1 Batch    8/17   train_loss = 5.694\n",
      "Epoch   1 Batch   13/17   train_loss = 5.650\n",
      "Epoch   2 Batch    1/17   train_loss = 5.499\n",
      "Epoch   2 Batch    6/17   train_loss = 5.468\n",
      "Epoch   2 Batch   11/17   train_loss = 5.225\n",
      "Epoch   2 Batch   16/17   train_loss = 5.135\n",
      "Epoch   3 Batch    4/17   train_loss = 5.093\n",
      "Epoch   3 Batch    9/17   train_loss = 5.035\n",
      "Epoch   3 Batch   14/17   train_loss = 4.862\n",
      "Epoch   4 Batch    2/17   train_loss = 4.805\n",
      "Epoch   4 Batch    7/17   train_loss = 4.770\n",
      "Epoch   4 Batch   12/17   train_loss = 4.692\n",
      "Epoch   5 Batch    0/17   train_loss = 4.664\n",
      "Epoch   5 Batch    5/17   train_loss = 4.613\n",
      "Epoch   5 Batch   10/17   train_loss = 4.547\n",
      "Epoch   5 Batch   15/17   train_loss = 4.508\n",
      "Epoch   6 Batch    3/17   train_loss = 4.516\n",
      "Epoch   6 Batch    8/17   train_loss = 4.368\n",
      "Epoch   6 Batch   13/17   train_loss = 4.349\n",
      "Epoch   7 Batch    1/17   train_loss = 4.315\n",
      "Epoch   7 Batch    6/17   train_loss = 4.322\n",
      "Epoch   7 Batch   11/17   train_loss = 4.185\n",
      "Epoch   7 Batch   16/17   train_loss = 4.208\n",
      "Epoch   8 Batch    4/17   train_loss = 4.206\n",
      "Epoch   8 Batch    9/17   train_loss = 4.165\n",
      "Epoch   8 Batch   14/17   train_loss = 4.089\n",
      "Epoch   9 Batch    2/17   train_loss = 4.078\n",
      "Epoch   9 Batch    7/17   train_loss = 4.038\n",
      "Epoch   9 Batch   12/17   train_loss = 3.943\n",
      "Epoch  10 Batch    0/17   train_loss = 3.981\n",
      "Epoch  10 Batch    5/17   train_loss = 3.948\n",
      "Epoch  10 Batch   10/17   train_loss = 3.896\n",
      "Epoch  10 Batch   15/17   train_loss = 3.867\n",
      "Epoch  11 Batch    3/17   train_loss = 3.905\n",
      "Epoch  11 Batch    8/17   train_loss = 3.793\n",
      "Epoch  11 Batch   13/17   train_loss = 3.747\n",
      "Epoch  12 Batch    1/17   train_loss = 3.758\n",
      "Epoch  12 Batch    6/17   train_loss = 3.700\n",
      "Epoch  12 Batch   11/17   train_loss = 3.574\n",
      "Epoch  12 Batch   16/17   train_loss = 3.603\n",
      "Epoch  13 Batch    4/17   train_loss = 3.658\n",
      "Epoch  13 Batch    9/17   train_loss = 3.572\n",
      "Epoch  13 Batch   14/17   train_loss = 3.537\n",
      "Epoch  14 Batch    2/17   train_loss = 3.528\n",
      "Epoch  14 Batch    7/17   train_loss = 3.525\n",
      "Epoch  14 Batch   12/17   train_loss = 3.399\n",
      "Epoch  15 Batch    0/17   train_loss = 3.423\n",
      "Epoch  15 Batch    5/17   train_loss = 3.414\n",
      "Epoch  15 Batch   10/17   train_loss = 3.398\n",
      "Epoch  15 Batch   15/17   train_loss = 3.316\n",
      "Epoch  16 Batch    3/17   train_loss = 3.370\n",
      "Epoch  16 Batch    8/17   train_loss = 3.308\n",
      "Epoch  16 Batch   13/17   train_loss = 3.191\n",
      "Epoch  17 Batch    1/17   train_loss = 3.259\n",
      "Epoch  17 Batch    6/17   train_loss = 3.198\n",
      "Epoch  17 Batch   11/17   train_loss = 3.065\n",
      "Epoch  17 Batch   16/17   train_loss = 3.061\n",
      "Epoch  18 Batch    4/17   train_loss = 3.144\n",
      "Epoch  18 Batch    9/17   train_loss = 3.033\n",
      "Epoch  18 Batch   14/17   train_loss = 3.030\n",
      "Epoch  19 Batch    2/17   train_loss = 2.971\n",
      "Epoch  19 Batch    7/17   train_loss = 2.986\n",
      "Epoch  19 Batch   12/17   train_loss = 2.851\n",
      "Epoch  20 Batch    0/17   train_loss = 2.835\n",
      "Epoch  20 Batch    5/17   train_loss = 2.832\n",
      "Epoch  20 Batch   10/17   train_loss = 2.835\n",
      "Epoch  20 Batch   15/17   train_loss = 2.807\n",
      "Epoch  21 Batch    3/17   train_loss = 2.804\n",
      "Epoch  21 Batch    8/17   train_loss = 2.809\n",
      "Epoch  21 Batch   13/17   train_loss = 2.654\n",
      "Epoch  22 Batch    1/17   train_loss = 2.777\n",
      "Epoch  22 Batch    6/17   train_loss = 2.669\n",
      "Epoch  22 Batch   11/17   train_loss = 2.568\n",
      "Epoch  22 Batch   16/17   train_loss = 2.624\n",
      "Epoch  23 Batch    4/17   train_loss = 2.632\n",
      "Epoch  23 Batch    9/17   train_loss = 2.559\n",
      "Epoch  23 Batch   14/17   train_loss = 2.570\n",
      "Epoch  24 Batch    2/17   train_loss = 2.590\n",
      "Epoch  24 Batch    7/17   train_loss = 2.504\n",
      "Epoch  24 Batch   12/17   train_loss = 2.475\n",
      "Epoch  25 Batch    0/17   train_loss = 2.451\n",
      "Epoch  25 Batch    5/17   train_loss = 2.469\n",
      "Epoch  25 Batch   10/17   train_loss = 2.436\n",
      "Epoch  25 Batch   15/17   train_loss = 2.431\n",
      "Epoch  26 Batch    3/17   train_loss = 2.424\n",
      "Epoch  26 Batch    8/17   train_loss = 2.422\n",
      "Epoch  26 Batch   13/17   train_loss = 2.302\n",
      "Epoch  27 Batch    1/17   train_loss = 2.413\n",
      "Epoch  27 Batch    6/17   train_loss = 2.315\n",
      "Epoch  27 Batch   11/17   train_loss = 2.170\n",
      "Epoch  27 Batch   16/17   train_loss = 2.213\n",
      "Epoch  28 Batch    4/17   train_loss = 2.258\n",
      "Epoch  28 Batch    9/17   train_loss = 2.146\n",
      "Epoch  28 Batch   14/17   train_loss = 2.179\n",
      "Epoch  29 Batch    2/17   train_loss = 2.162\n",
      "Epoch  29 Batch    7/17   train_loss = 2.124\n",
      "Epoch  29 Batch   12/17   train_loss = 2.006\n",
      "Epoch  30 Batch    0/17   train_loss = 1.995\n",
      "Epoch  30 Batch    5/17   train_loss = 2.030\n",
      "Epoch  30 Batch   10/17   train_loss = 1.983\n",
      "Epoch  30 Batch   15/17   train_loss = 1.976\n",
      "Epoch  31 Batch    3/17   train_loss = 1.970\n",
      "Epoch  31 Batch    8/17   train_loss = 2.031\n",
      "Epoch  31 Batch   13/17   train_loss = 1.867\n",
      "Epoch  32 Batch    1/17   train_loss = 2.051\n",
      "Epoch  32 Batch    6/17   train_loss = 1.949\n",
      "Epoch  32 Batch   11/17   train_loss = 1.893\n",
      "Epoch  32 Batch   16/17   train_loss = 1.831\n",
      "Epoch  33 Batch    4/17   train_loss = 1.945\n",
      "Epoch  33 Batch    9/17   train_loss = 1.812\n",
      "Epoch  33 Batch   14/17   train_loss = 1.851\n",
      "Epoch  34 Batch    2/17   train_loss = 1.758\n",
      "Epoch  34 Batch    7/17   train_loss = 1.775\n",
      "Epoch  34 Batch   12/17   train_loss = 1.692\n",
      "Epoch  35 Batch    0/17   train_loss = 1.648\n",
      "Epoch  35 Batch    5/17   train_loss = 1.673\n",
      "Epoch  35 Batch   10/17   train_loss = 1.665\n",
      "Epoch  35 Batch   15/17   train_loss = 1.671\n",
      "Epoch  36 Batch    3/17   train_loss = 1.631\n",
      "Epoch  36 Batch    8/17   train_loss = 1.680\n",
      "Epoch  36 Batch   13/17   train_loss = 1.542\n",
      "Epoch  37 Batch    1/17   train_loss = 1.671\n",
      "Epoch  37 Batch    6/17   train_loss = 1.606\n",
      "Epoch  37 Batch   11/17   train_loss = 1.558\n",
      "Epoch  37 Batch   16/17   train_loss = 1.507\n",
      "Epoch  38 Batch    4/17   train_loss = 1.584\n",
      "Epoch  38 Batch    9/17   train_loss = 1.491\n",
      "Epoch  38 Batch   14/17   train_loss = 1.568\n",
      "Epoch  39 Batch    2/17   train_loss = 1.521\n",
      "Epoch  39 Batch    7/17   train_loss = 1.527\n",
      "Epoch  39 Batch   12/17   train_loss = 1.459\n",
      "Epoch  40 Batch    0/17   train_loss = 1.413\n",
      "Epoch  40 Batch    5/17   train_loss = 1.435\n",
      "Epoch  40 Batch   10/17   train_loss = 1.484\n",
      "Epoch  40 Batch   15/17   train_loss = 1.451\n",
      "Epoch  41 Batch    3/17   train_loss = 1.376\n",
      "Epoch  41 Batch    8/17   train_loss = 1.420\n",
      "Epoch  41 Batch   13/17   train_loss = 1.384\n",
      "Epoch  42 Batch    1/17   train_loss = 1.474\n",
      "Epoch  42 Batch    6/17   train_loss = 1.413\n",
      "Epoch  42 Batch   11/17   train_loss = 1.307\n",
      "Epoch  42 Batch   16/17   train_loss = 1.307\n",
      "Epoch  43 Batch    4/17   train_loss = 1.339\n",
      "Epoch  43 Batch    9/17   train_loss = 1.298\n",
      "Epoch  43 Batch   14/17   train_loss = 1.393\n",
      "Epoch  44 Batch    2/17   train_loss = 1.238\n",
      "Epoch  44 Batch    7/17   train_loss = 1.364\n",
      "Epoch  44 Batch   12/17   train_loss = 1.279\n",
      "Epoch  45 Batch    0/17   train_loss = 1.349\n",
      "Epoch  45 Batch    5/17   train_loss = 1.185\n",
      "Epoch  45 Batch   10/17   train_loss = 1.355\n",
      "Epoch  45 Batch   15/17   train_loss = 1.350\n",
      "Epoch  46 Batch    3/17   train_loss = 1.299\n",
      "Epoch  46 Batch    8/17   train_loss = 1.318\n",
      "Epoch  46 Batch   13/17   train_loss = 1.239\n",
      "Epoch  47 Batch    1/17   train_loss = 1.468\n",
      "Epoch  47 Batch    6/17   train_loss = 1.269\n",
      "Epoch  47 Batch   11/17   train_loss = 1.326\n",
      "Epoch  47 Batch   16/17   train_loss = 1.214\n",
      "Epoch  48 Batch    4/17   train_loss = 1.387\n",
      "Epoch  48 Batch    9/17   train_loss = 1.209\n",
      "Epoch  48 Batch   14/17   train_loss = 1.375\n",
      "Epoch  49 Batch    2/17   train_loss = 1.208\n",
      "Epoch  49 Batch    7/17   train_loss = 1.269\n",
      "Epoch  49 Batch   12/17   train_loss = 1.189\n",
      "Model Trained and Saved\n"
     ]
    }
   ],
   "source": [
    "\"\"\"\n",
    "DON'T MODIFY ANYTHING IN THIS CELL\n",
    "\"\"\"\n",
    "batches = get_batches(int_text, batch_size, seq_length)\n",
    "\n",
    "with tf.Session(graph=train_graph) as sess:\n",
    "    sess.run(tf.global_variables_initializer())\n",
    "\n",
    "    for epoch_i in range(num_epochs):\n",
    "        state = sess.run(initial_state, {input_text: batches[0][0]})\n",
    "\n",
    "        for batch_i, (x, y) in enumerate(batches):\n",
    "            #print(\"x = \", x)\n",
    "            #print(\"y = \", y)\n",
    "            feed = {\n",
    "                input_text: x,\n",
    "                targets: y,\n",
    "                initial_state: state,\n",
    "                lr: learning_rate}\n",
    "            train_loss, state, _ = sess.run([cost, final_state, train_op], feed)\n",
    "\n",
    "            # Show every <show_every_n_batches> batches\n",
    "            if (epoch_i * len(batches) + batch_i) % show_every_n_batches == 0:\n",
    "                print('Epoch {:>3} Batch {:>4}/{}   train_loss = {:.3f}'.format(\n",
    "                    epoch_i,\n",
    "                    batch_i,\n",
    "                    len(batches),\n",
    "                    train_loss))\n",
    "\n",
    "    # Save Model\n",
    "    saver = tf.train.Saver()\n",
    "    saver.save(sess, save_dir)\n",
    "    print('Model Trained and Saved')"
   ]
  },
  {
   "cell_type": "markdown",
   "metadata": {},
   "source": [
    "## Save Parameters\n",
    "Save `seq_length` and `save_dir` for generating a new TV script."
   ]
  },
  {
   "cell_type": "code",
   "execution_count": 168,
   "metadata": {
    "collapsed": true
   },
   "outputs": [],
   "source": [
    "\"\"\"\n",
    "DON'T MODIFY ANYTHING IN THIS CELL\n",
    "\"\"\"\n",
    "# Save parameters for checkpoint\n",
    "helper.save_params((seq_length, save_dir))"
   ]
  },
  {
   "cell_type": "markdown",
   "metadata": {},
   "source": [
    "# Checkpoint"
   ]
  },
  {
   "cell_type": "code",
   "execution_count": 169,
   "metadata": {
    "collapsed": true
   },
   "outputs": [],
   "source": [
    "\"\"\"\n",
    "DON'T MODIFY ANYTHING IN THIS CELL\n",
    "\"\"\"\n",
    "import tensorflow as tf\n",
    "import numpy as np\n",
    "import helper\n",
    "import problem_unittests as tests\n",
    "\n",
    "_, vocab_to_int, int_to_vocab, token_dict = helper.load_preprocess()\n",
    "seq_length, load_dir = helper.load_params()"
   ]
  },
  {
   "cell_type": "markdown",
   "metadata": {},
   "source": [
    "## Implement Generate Functions\n",
    "### Get Tensors\n",
    "Get tensors from `loaded_graph` using the function [`get_tensor_by_name()`](https://www.tensorflow.org/api_docs/python/tf/Graph#get_tensor_by_name).  Get the tensors using the following names:\n",
    "- \"input:0\"\n",
    "- \"initial_state:0\"\n",
    "- \"final_state:0\"\n",
    "- \"probs:0\"\n",
    "\n",
    "Return the tensors in the following tuple `(InputTensor, InitialStateTensor, FinalStateTensor, ProbsTensor)` "
   ]
  },
  {
   "cell_type": "code",
   "execution_count": 170,
   "metadata": {
    "collapsed": false
   },
   "outputs": [
    {
     "name": "stdout",
     "output_type": "stream",
     "text": [
      "Tests Passed\n"
     ]
    }
   ],
   "source": [
    "def get_tensors(loaded_graph):\n",
    "    \"\"\"\n",
    "    Get input, initial state, final state, and probabilities tensor from <loaded_graph>\n",
    "    :param loaded_graph: TensorFlow graph loaded from file\n",
    "    :return: Tuple (InputTensor, InitialStateTensor, FinalStateTensor, ProbsTensor)\n",
    "    \"\"\"\n",
    "    # TODO: Implement Function\n",
    "    input_tensor = loaded_graph.get_tensor_by_name(name='input:0')\n",
    "    initial_state_tensor = loaded_graph.get_tensor_by_name(name='initial_state:0')\n",
    "    final_state_tensor = loaded_graph.get_tensor_by_name(name='final_state:0')\n",
    "    probs_tensor = loaded_graph.get_tensor_by_name(name='probs:0')\n",
    "    \n",
    "    return input_tensor, initial_state_tensor, final_state_tensor, probs_tensor\n",
    "\n",
    "\n",
    "\"\"\"\n",
    "DON'T MODIFY ANYTHING IN THIS CELL THAT IS BELOW THIS LINE\n",
    "\"\"\"\n",
    "tests.test_get_tensors(get_tensors)"
   ]
  },
  {
   "cell_type": "markdown",
   "metadata": {},
   "source": [
    "### Choose Word\n",
    "Implement the `pick_word()` function to select the next word using `probabilities`."
   ]
  },
  {
   "cell_type": "code",
   "execution_count": 171,
   "metadata": {
    "collapsed": false
   },
   "outputs": [
    {
     "name": "stdout",
     "output_type": "stream",
     "text": [
      "Tests Passed\n"
     ]
    }
   ],
   "source": [
    "def pick_word(probabilities, int_to_vocab):\n",
    "    \"\"\"\n",
    "    Pick the next word in the generated text\n",
    "    :param probabilities: Probabilites of the next word\n",
    "    :param int_to_vocab: Dictionary of word ids as the keys and words as the values\n",
    "    :return: String of the predicted word\n",
    "    \"\"\"\n",
    "    # TODO: Implement Function\n",
    "    #print(probabilities.shape[0])\n",
    "    #print(probabilities)\n",
    "    \n",
    "    next_word = np.random.choice(len(probabilities), p=probabilities)\n",
    "    next_word = str(int_to_vocab[next_word])\n",
    "\n",
    "    return next_word\n",
    "\n",
    "\n",
    "\"\"\"\n",
    "DON'T MODIFY ANYTHING IN THIS CELL THAT IS BELOW THIS LINE\n",
    "\"\"\"\n",
    "tests.test_pick_word(pick_word)"
   ]
  },
  {
   "cell_type": "markdown",
   "metadata": {},
   "source": [
    "## Generate TV Script\n",
    "This will generate the TV script for you.  Set `gen_length` to the length of TV script you want to generate."
   ]
  },
  {
   "cell_type": "code",
   "execution_count": 173,
   "metadata": {
    "collapsed": false
   },
   "outputs": [
    {
     "name": "stdout",
     "output_type": "stream",
     "text": [
      "INFO:tensorflow:Restoring parameters from ./save\n",
      "moe_szyslak: excuse me, i'm making the cat's here.\n",
      "seymour_skinner:(kindly) we want chilly willy! we want chilly willy!\n",
      "barney_gumble: you see your o'problem is that.\n",
      "homer_simpson:(reading)\" strokkur geysir. our name is alva. and it begins, that wants to party. they couldn't bear to another woman. boxing plank's elephants. you can't believe there!\n",
      "carl:(still dancing noises)\n",
      "chief_wiggum: now, i'd be gonna get my crap out.\n",
      "moe_szyslak: yeah, let me think about it, homer i'm black enough.\n",
      "\n",
      "\n",
      "lookalike:(peppy) hi, artist, i think that verdict is overturned in the way.\n",
      "homer_simpson:(clears throat) and it is... inclination...\n",
      "all:(disgusted) ew...(to marge) eh, son everybody closed, i'll help it.\n",
      "moe_szyslak: hurry, the evening began to homer on! i floated up when we pulled the bar, then, you'll clean and the bubbles?\n",
      "homer_simpson: hey, i rob\n"
     ]
    }
   ],
   "source": [
    "gen_length = 200\n",
    "# homer_simpson, moe_szyslak, or Barney_Gumble\n",
    "prime_word = 'moe_szyslak'\n",
    "\n",
    "\"\"\"\n",
    "DON'T MODIFY ANYTHING IN THIS CELL THAT IS BELOW THIS LINE\n",
    "\"\"\"\n",
    "loaded_graph = tf.Graph()\n",
    "with tf.Session(graph=loaded_graph) as sess:\n",
    "    # Load saved model\n",
    "    loader = tf.train.import_meta_graph(load_dir + '.meta')\n",
    "    loader.restore(sess, load_dir)\n",
    "\n",
    "    # Get Tensors from loaded model\n",
    "    input_text, initial_state, final_state, probs = get_tensors(loaded_graph)\n",
    "\n",
    "    # Sentences generation setup\n",
    "    gen_sentences = [prime_word + ':']\n",
    "    prev_state = sess.run(initial_state, {input_text: np.array([[1]])})\n",
    "\n",
    "    # Generate sentences\n",
    "    for n in range(gen_length):\n",
    "        # Dynamic Input\n",
    "        dyn_input = [[vocab_to_int[word] for word in gen_sentences[-seq_length:]]]\n",
    "        dyn_seq_length = len(dyn_input[0])\n",
    "        # debug \n",
    "        #print(len(dyn_input[0]))\n",
    "\n",
    "        # Get Prediction\n",
    "        probabilities, prev_state = sess.run(\n",
    "            [probs, final_state],\n",
    "            {input_text: dyn_input, initial_state: prev_state})\n",
    "        \n",
    "        # debug\n",
    "        #print(probabilities.shape)\n",
    "        #print(type(probabilities))\n",
    "        #print(dyn_seq_length-1)\n",
    "        temp = np.squeeze(probabilities, axis=0)\n",
    "        #print(temp.shape)\n",
    "        temp = temp[dyn_seq_length - 1]\n",
    "        #print(temp.shape)\n",
    "        \n",
    "        pred_word = pick_word(temp, int_to_vocab)\n",
    "\n",
    "        gen_sentences.append(pred_word)\n",
    "    \n",
    "    # Remove tokens\n",
    "    tv_script = ' '.join(gen_sentences)\n",
    "    for key, token in token_dict.items():\n",
    "        ending = ' ' if key in ['\\n', '(', '\"'] else ''\n",
    "        tv_script = tv_script.replace(' ' + token.lower(), key)\n",
    "    tv_script = tv_script.replace('\\n ', '\\n')\n",
    "    tv_script = tv_script.replace('( ', '(')\n",
    "        \n",
    "    print(tv_script)"
   ]
  },
  {
   "cell_type": "markdown",
   "metadata": {},
   "source": [
    "# The TV Script is Nonsensical\n",
    "It's ok if the TV script doesn't make any sense.  We trained on less than a megabyte of text.  In order to get good results, you'll have to use a smaller vocabulary or get more data.  Luckly there's more data!  As we mentioned in the begging of this project, this is a subset of [another dataset](https://www.kaggle.com/wcukierski/the-simpsons-by-the-data).  We didn't have you train on all the data, because that would take too long.  However, you are free to train your neural network on all the data.  After you complete the project, of course.\n",
    "# Submitting This Project\n",
    "When submitting this project, make sure to run all the cells before saving the notebook. Save the notebook file as \"dlnd_tv_script_generation.ipynb\" and save it as a HTML file under \"File\" -> \"Download as\". Include the \"helper.py\" and \"problem_unittests.py\" files in your submission."
   ]
  }
 ],
 "metadata": {
  "kernelspec": {
   "display_name": "Python 3",
   "language": "python",
   "name": "python3"
  },
  "language_info": {
   "codemirror_mode": {
    "name": "ipython",
    "version": 3
   },
   "file_extension": ".py",
   "mimetype": "text/x-python",
   "name": "python",
   "nbconvert_exporter": "python",
   "pygments_lexer": "ipython3",
   "version": "3.5.3"
  },
  "widgets": {
   "state": {},
   "version": "1.1.2"
  }
 },
 "nbformat": 4,
 "nbformat_minor": 1
}
