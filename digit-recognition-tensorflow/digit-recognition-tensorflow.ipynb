{
 "cells": [
  {
   "cell_type": "code",
   "execution_count": 1,
   "metadata": {
    "collapsed": false
   },
   "outputs": [
    {
     "name": "stdout",
     "output_type": "stream",
     "text": [
      "Successfully downloaded train-images-idx3-ubyte.gz 9912422 bytes.\n",
      "Extracting ./train-images-idx3-ubyte.gz\n",
      "Successfully downloaded train-labels-idx1-ubyte.gz 28881 bytes.\n",
      "Extracting ./train-labels-idx1-ubyte.gz\n",
      "Successfully downloaded t10k-images-idx3-ubyte.gz 1648877 bytes.\n",
      "Extracting ./t10k-images-idx3-ubyte.gz\n",
      "Successfully downloaded t10k-labels-idx1-ubyte.gz 4542 bytes.\n",
      "Extracting ./t10k-labels-idx1-ubyte.gz\n"
     ]
    }
   ],
   "source": [
    "# Import digit data from MNIST dataset\n",
    "# MNIST dataset provided by TensorFlow, which batches and One-Hot encodes the data for you.\n",
    "from tensorflow.examples.tutorials.mnist import input_data\n",
    "mnist = input_data.read_data_sets(\".\", one_hot=True, reshape=False)"
   ]
  },
  {
   "cell_type": "code",
   "execution_count": 15,
   "metadata": {
    "collapsed": true
   },
   "outputs": [],
   "source": [
    "import tensorflow as tf\n",
    "\n",
    "# Parameters\n",
    "learning_rate = 0.001\n",
    "training_epochs = 30\n",
    "batch_size = 128  # Decrease batch size if you don't have enough memory\n",
    "display_step = 1\n",
    "\n",
    "n_input = 784  # MNIST data input (img shape: 28*28)\n",
    "n_classes = 10  # MNIST total classes (0-9 digits)\n",
    "\n",
    "# Hidden layer parameter (layer number of features)\n",
    "n_hidden_layer = 256 \n",
    "\n",
    "# Weights & biases\n",
    "weights = {'hidden_layer': tf.Variable(tf.random_normal([n_input, n_hidden_layer])),\n",
    "           'out': tf.Variable(tf.random_normal([n_hidden_layer, n_classes]))\n",
    "          }\n",
    "biases =  {'hidden_layer': tf.Variable(tf.random_normal([n_hidden_layer])),\n",
    "           'out': tf.Variable(tf.random_normal([n_classes]))\n",
    "          }\n",
    "\n",
    "# Input for the graph\n",
    "x = tf.placeholder(dtype=tf.float32, shape=[None, 28,28,1])\n",
    "y = tf.placeholder(dtype=tf.float32, shape=[None, n_classes])\n",
    "\n",
    "# The MNIST data is made up of 28px by 28px images with a single channel.\n",
    "# The tf.reshape() function above reshapes the 28px by 28px matrices in x \n",
    "# into row vectors of 784px.\n",
    "x_flat = tf.reshape(x, shape=[-1, n_input])\n",
    "                                       "
   ]
  },
  {
   "cell_type": "markdown",
   "metadata": {},
   "source": [
    "## Multilayer Perceptron\n",
    "\n",
    "<img src=\"images/multi-layer.png\" style=\"height: 50%;width: 50%; position: relative; right: 5%\">"
   ]
  },
  {
   "cell_type": "code",
   "execution_count": 16,
   "metadata": {
    "collapsed": true
   },
   "outputs": [],
   "source": [
    "# Hidden layer with RELU activation\n",
    "layer_1 = tf.add(tf.matmul(x_flat, weights['hidden_layer']),\\\n",
    "    biases['hidden_layer'])\n",
    "layer_1 = tf.nn.relu(layer_1)\n",
    "# Output layer with linear activation\n",
    "logits = tf.add(tf.matmul(layer_1, weights['out']), biases['out'])"
   ]
  },
  {
   "cell_type": "code",
   "execution_count": 17,
   "metadata": {
    "collapsed": true
   },
   "outputs": [],
   "source": [
    "# Optimizer\n",
    "# Define loss and optimizer\n",
    "cost = tf.reduce_mean(\\\n",
    "    tf.nn.softmax_cross_entropy_with_logits(logits=logits, labels=y))\n",
    "optimizer = tf.train.GradientDescentOptimizer(learning_rate=learning_rate)\\\n",
    "    .minimize(cost)"
   ]
  },
  {
   "cell_type": "code",
   "execution_count": 18,
   "metadata": {
    "collapsed": false
   },
   "outputs": [],
   "source": [
    "# Session (initializing the variables)\n",
    "init = tf.global_variables_initializer()"
   ]
  },
  {
   "cell_type": "code",
   "execution_count": 19,
   "metadata": {
    "collapsed": false
   },
   "outputs": [
    {
     "name": "stdout",
     "output_type": "stream",
     "text": [
      "Epoch: 0001 cost= 37.450588226\n",
      "Epoch: 0002 cost= 26.197669983\n",
      "Epoch: 0003 cost= 21.214166641\n",
      "Epoch: 0004 cost= 22.088026047\n",
      "Epoch: 0005 cost= 15.277801514\n",
      "Epoch: 0006 cost= 14.110746384\n",
      "Epoch: 0007 cost= 11.246160507\n",
      "Epoch: 0008 cost= 13.177860260\n",
      "Epoch: 0009 cost= 11.220216751\n",
      "Epoch: 0010 cost= 7.495230675\n",
      "Epoch: 0011 cost= 9.516511917\n",
      "Epoch: 0012 cost= 7.982617378\n",
      "Epoch: 0013 cost= 10.029530525\n",
      "Epoch: 0014 cost= 6.396114349\n",
      "Epoch: 0015 cost= 4.974260330\n",
      "Epoch: 0016 cost= 10.998069763\n",
      "Epoch: 0017 cost= 11.068115234\n",
      "Epoch: 0018 cost= 5.709951878\n",
      "Epoch: 0019 cost= 8.335895538\n",
      "Epoch: 0020 cost= 3.105145931\n",
      "Epoch: 0021 cost= 7.508986473\n",
      "Epoch: 0022 cost= 7.608083725\n",
      "Epoch: 0023 cost= 9.090967178\n",
      "Epoch: 0024 cost= 5.840403557\n",
      "Epoch: 0025 cost= 6.671287537\n",
      "Epoch: 0026 cost= 6.636513710\n",
      "Epoch: 0027 cost= 6.075844765\n",
      "Epoch: 0028 cost= 6.906780720\n",
      "Epoch: 0029 cost= 5.805555820\n",
      "Epoch: 0030 cost= 6.782827377\n",
      "Optimization Finished!\n",
      "Accuracy: 0.890625\n"
     ]
    }
   ],
   "source": [
    "# Launch the graph\n",
    "with tf.Session() as sess:\n",
    "    sess.run(init)\n",
    "    # Training cycle\n",
    "    for epoch in range(training_epochs):\n",
    "        total_batch = int(mnist.train.num_examples/batch_size)\n",
    "        # Loop over all batches\n",
    "        for i in range(total_batch):\n",
    "            batch_x, batch_y = mnist.train.next_batch(batch_size)\n",
    "            # Run optimization op (backprop) and cost op (to get loss value)\n",
    "            sess.run(optimizer, feed_dict={x: batch_x, y: batch_y})\n",
    "            \n",
    "        # Display logs per epoch step\n",
    "        if epoch % display_step == 0:\n",
    "            c = sess.run(cost, feed_dict={x: batch_x, y: batch_y})\n",
    "            print(\"Epoch:\", '%04d' % (epoch+1), \"cost=\", \\\n",
    "                \"{:.9f}\".format(c))\n",
    "    print(\"Optimization Finished!\")\n",
    "    \n",
    "    \n",
    "    # Test model\n",
    "    correct_prediction = tf.equal(tf.argmax(logits, 1), tf.argmax(y, 1))\n",
    "    # Calculate accuracy\n",
    "    accuracy = tf.reduce_mean(tf.cast(correct_prediction, \"float\"))\n",
    "    # Decrease test_size if you don't have enough memory\n",
    "    test_size = 256\n",
    "    print(\"Accuracy:\", accuracy.eval({x: mnist.test.images[:test_size], y: mnist.test.labels[:test_size]}))"
   ]
  },
  {
   "cell_type": "code",
   "execution_count": null,
   "metadata": {
    "collapsed": true
   },
   "outputs": [],
   "source": []
  }
 ],
 "metadata": {
  "kernelspec": {
   "display_name": "Python 3",
   "language": "python",
   "name": "python3"
  },
  "language_info": {
   "codemirror_mode": {
    "name": "ipython",
    "version": 3
   },
   "file_extension": ".py",
   "mimetype": "text/x-python",
   "name": "python",
   "nbconvert_exporter": "python",
   "pygments_lexer": "ipython3",
   "version": "3.5.3"
  }
 },
 "nbformat": 4,
 "nbformat_minor": 1
}
